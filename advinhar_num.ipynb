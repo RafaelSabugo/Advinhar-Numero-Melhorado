{
  "nbformat": 4,
  "nbformat_minor": 0,
  "metadata": {
    "colab": {
      "provenance": [],
      "authorship_tag": "ABX9TyNUTgjYRD0bZs3fXx6oH4Wb",
      "include_colab_link": true
    },
    "kernelspec": {
      "name": "python3",
      "display_name": "Python 3"
    },
    "language_info": {
      "name": "python"
    }
  },
  "cells": [
    {
      "cell_type": "markdown",
      "metadata": {
        "id": "view-in-github",
        "colab_type": "text"
      },
      "source": [
        "<a href=\"https://colab.research.google.com/github/RafaelSabugo/Mini-Projetos/blob/main/advinhar_num.ipynb\" target=\"_parent\"><img src=\"https://colab.research.google.com/assets/colab-badge.svg\" alt=\"Open In Colab\"/></a>"
      ]
    },
    {
      "cell_type": "code",
      "execution_count": 9,
      "metadata": {
        "id": "nzmoMWEmeCUD",
        "colab": {
          "base_uri": "https://localhost:8080/"
        },
        "outputId": "866dd303-66d9-4c2e-9528-5476e22de35a"
      },
      "outputs": [
        {
          "output_type": "stream",
          "name": "stdout",
          "text": [
            "*********************\n",
            "O programa irá sortear um número entre 0 e 10, tente advinhar.\n",
            "*********************\n",
            "Advinhe o número: 5\n",
            "============================\n",
            "Você ERROU!\n",
            "Tentar novamente ? (mesmo número sorteado) [S/N] n\n",
            "============================\n",
            "Que pena... Eu sorteei 0\n",
            "============================\n",
            "Começar um novo jogo ? [S/N] n\n",
            "============================\n",
            "=====================\n",
            "     FIM DE JOGO     \n",
            "=====================\n",
            "TOTAL DE ACERTOS: 0\n",
            "TOTAL DE ERROS: 1\n",
            "TOTAL DE RODADAS: 1\n"
          ]
        }
      ],
      "source": [
        "import random\n",
        "\n",
        "print('***'*7)\n",
        "print('O programa irá sortear um número entre 0 e 10, tente advinhar.')\n",
        "print('***'*7)\n",
        "\n",
        "num_user = 0\n",
        "num_sort = 0\n",
        "acertos = 0\n",
        "erros = 0\n",
        "rodadas = 0\n",
        "novo_jogo = ''\n",
        "tentar_dnv = ''\n",
        "\n",
        "\n",
        "while True:\n",
        "  num_sort = random.randint(0, 10)\n",
        "  \n",
        "  while tentar_dnv != 'N':\n",
        "    rodadas += 1\n",
        "    while True:                                                                 ###COMEÇO DO CÓDIGO \n",
        "      try:\n",
        "        num_user = int(input('Advinhe o número: '))\n",
        "        print('===='*7)\n",
        "        break                                                                   #Evitar um erro de valor, caso digite uma letra no lugar de números\n",
        "      except ValueError:\n",
        "        print('Valor inválido. Tente Novamente.')\n",
        "        print('===='*7)\n",
        "                                                                                ###FIM DO CÓDIGO\n",
        "\n",
        "    if num_user == num_sort:                                                    ###COMEÇO DO CÓDIGO\n",
        "      print(f'Você ACERTOU! Eu sorteei {num_sort}')                             #se você acertar o número:\n",
        "      print('===='*7)\n",
        "      acertos += 1                                                              #ganha ponto e poderá começar um novo jogo (LINHA 62) \n",
        "      break                       \n",
        "    else:\n",
        "      print(f'Você ERROU!')\n",
        "      tentar_dnv = str(input('Tentar novamente ? (mesmo número sorteado) [S/N] ')).strip().upper() #você errou o número sorteado, poderá tentar novamente\n",
        "      print('===='*7)\n",
        "      erros += 1\n",
        "\n",
        "      while tentar_dnv not in 'SN' or tentar_dnv in ' ':\n",
        "        tentar_dnv = str(input('Resposta INVÁLIDA. Tentar novamente ? [S/N] ')).strip().upper()\n",
        "        print('===='*7)\n",
        "      \n",
        "      if tentar_dnv == 'N':                                                     #se escolher não tentar novamente, o programa mostrará o número sorteado e poderá começar um novo jogo (LINHA 62)\n",
        "        print(f'Que pena... Eu sorteei {num_sort}')\n",
        "        print('===='*7)\n",
        "                                                                                ###FIM DO CÓDDIGO \n",
        "\n",
        "\n",
        "  novo_jogo = str(input('Começar um novo jogo ? [S/N] ')).strip().upper()       #poderá começar um novo jogo, outro número será sorteado\n",
        "  print('===='*7)\n",
        "\n",
        "  while novo_jogo not in 'SN' or novo_jogo in ' ':\n",
        "    novo_jogo = str(input('Resposta Inválida. Começar um novo jogo ? [S/N] ')).strip().upper()\n",
        "    print('===='*7)\n",
        "  \n",
        "  if novo_jogo == 'N':                                                          #se não quiser começar outro jogo o loop encerrará\n",
        "    print('==='*7)\n",
        "    print('{:^21}'.format('FIM DE JOGO'))\n",
        "    print('==='*7)\n",
        "    break\n",
        "\n",
        "print(f'TOTAL DE ACERTOS: {acertos}')                                            #vai exibir o total de acertos\n",
        "print(f'TOTAL DE ERROS: {erros}')\n",
        "print(f'TOTAL DE RODADAS: {rodadas}')"
      ]
    },
    {
      "cell_type": "code",
      "source": [],
      "metadata": {
        "id": "TOE23yDrnxp_"
      },
      "execution_count": null,
      "outputs": []
    }
  ]
}